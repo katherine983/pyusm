{
 "cells": [
  {
   "cell_type": "code",
   "execution_count": 1,
   "id": "f9dcf3b8",
   "metadata": {},
   "outputs": [],
   "source": [
    "import numpy as np\n",
    "import matplotlib.pyplot as plt\n",
    "from matplotlib.animation import FuncAnimation\n",
    "from matplotlib import patches, collections\n",
    "from IPython.display import HTML\n",
    "from pathlib import Path\n",
    "import pyusm"
   ]
  },
  {
   "cell_type": "code",
   "execution_count": 2,
   "id": "541f4ae1",
   "metadata": {},
   "outputs": [],
   "source": [
    "demo_files = Path.cwd() / \"demo_files\"\n",
    "#demo_files"
   ]
  },
  {
   "cell_type": "code",
   "execution_count": 3,
   "id": "056d8483",
   "metadata": {},
   "outputs": [],
   "source": [
    "A = {'A':(0, 0), 'C':(0, 1), 'G':(1, 1), 'T':(1, 0)}\n",
    "a = list('CCCAGCTACTCAGGAGGCCGAAATGGGAGGATCCCTTGAGCTCAGGAGGA')\n",
    "b = list('GCAGAGTCCAGGGTCCGAGAAGGGGA')\n",
    "labels, verts = zip(*A.items())\n",
    "x_vals, y_vals = zip(*verts)\n",
    "x_vals = np.array(x_vals)\n",
    "y_vals = np.array(y_vals)\n",
    "# set up figure to hold our cgr\n",
    "xmin = x_vals.min() - 0.2\n",
    "xmax = x_vals.max() + 0.2\n",
    "ymin = y_vals.min() - 0.2\n",
    "ymax = y_vals.max() + 0.2\n",
    "#xmin = -0.2\n",
    "#xmax = 1.2\n",
    "#ymin = -0.2\n",
    "#ymax = 1.2"
   ]
  },
  {
   "cell_type": "code",
   "execution_count": 14,
   "id": "b8054998",
   "metadata": {
    "scrolled": true
   },
   "outputs": [
    {
     "data": {
      "image/png": "[encoded data removed]",
      "text/plain": [
       "<Figure size 432x432 with 1 Axes>"
      ]
     },
     "metadata": {
      "needs_background": "light"
     },
     "output_type": "display_data"
    }
   ],
   "source": [
    "#generate 2d cgr instances for each seq\n",
    "#ax3.cla()\n",
    "cgr_a = pyusm.USM.cgr2d(a, A=A)\n",
    "cgr_b = pyusm.USM.cgr2d(b, A=A)\n",
    "cgr3, ax3 = plt.subplots(figsize=(6, 6))\n",
    "ax3.set(xlim=(xmin, xmax), ylim=(ymin, ymax))\n",
    "ax3.scatter(x_vals, y_vals, c='b', label='vertices', marker=\"o\")\n",
    "for i, xy in enumerate(zip(x_vals, y_vals)):\n",
    "    ax3.annotate(f'{labels[i]}', xy, xycoords='data', xytext=(5, 5), textcoords='offset pixels')\n",
    "xa, ya = zip(*cgr_a.fw)\n",
    "xb, yb = zip(*cgr_b.fw)\n",
    "ax3.scatter(xa, ya, c='g', label='a', marker='s', s=6)\n",
    "ax3.scatter(xb, yb, c='r', label='b', marker=\"1\")\n",
    "\n",
    "ax3.annotate('last a', cgr_a.fw[-1], xytext=(-20,30), textcoords='offset points', arrowprops=dict(arrowstyle='->'), fontsize=12)\n",
    "ax3.annotate('last b', cgr_b.fw[-1], xytext=(20,20), textcoords='offset points', arrowprops=dict(arrowstyle='->'), fontsize=12)\n",
    "plt.title(\"CGR Plot of Sequence 'a' and 'b'\", fontsize=14)\n",
    "# set suffix length to calculate subquadrant size\n",
    "k=3\n",
    "q = 2**(-k)\n",
    "qx = np.linspace(0, 1, (2**k)+1)\n",
    "plt.xticks(qx)\n",
    "plt.yticks(qx)\n",
    "ax3.grid()\n",
    "ax3.set_axisbelow(True)\n",
    "quad3 = patches.Rectangle((0.375, 0.375), q, q, linewidth='3', edgecolor='k', facecolor='none', label='')\n",
    "quad1 = patches.Rectangle((0, 0), 2**-1, 2**-1, linewidth='1', edgecolor='k', facecolor='none')\n",
    "quad2 = patches.Rectangle((0.25, 0.25), 2**-2, 2**-2, linewidth='1', edgecolor='k', facecolor='none')\n",
    "ax3.add_patch(quad1)\n",
    "ax3.add_patch(quad2)\n",
    "ax3.add_patch(quad3)\n",
    "ax3.legend()\n",
    "plt.tight_layout()\n",
    "plt.savefig(\"G:\\My Drive\\Dissertation Writings\\Manuscript_2\\CGR_suffix_plot.png\", bbox_inches='tight')"
   ]
  },
  {
   "cell_type": "code",
   "execution_count": 8,
   "id": "0d0f470e",
   "metadata": {},
   "outputs": [],
   "source": []
  },
  {
   "cell_type": "code",
   "execution_count": null,
   "id": "5289b466",
   "metadata": {},
   "outputs": [],
   "source": []
  }
 ],
 "metadata": {
  "kernelspec": {
   "display_name": "monte-carlo-dev",
   "language": "python",
   "name": "monte-carlo-dev"
  },
  "language_info": {
   "codemirror_mode": {
    "name": "ipython",
    "version": 3
   },
   "file_extension": ".py",
   "mimetype": "text/x-python",
   "name": "python",
   "nbconvert_exporter": "python",
   "pygments_lexer": "ipython3",
   "version": "3.9.12"
  }
 },
 "nbformat": 4,
 "nbformat_minor": 5
}
