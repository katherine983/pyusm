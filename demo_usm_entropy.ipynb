{
 "cells": [
  {
   "cell_type": "markdown",
   "id": "dfd18082",
   "metadata": {},
   "source": [
    "# Demo of USM Renyi Entropy in Python\n",
    "## How to compute continuous Renyi entropy of USM using the pyusm library\n",
    "#### By Katherine Wuestney\n",
    "\n",
    "**Contents**\n",
    "* [Introduction](#Intro)\n",
    "    - [Terminology Introduction](#termintro)\n",
    "* [Section 1](#Section1) Renyi continuous entropy of USM\n",
    "    - [Section 1.1](#Section1.1) Renyi Continuous Entropy\n",
    "    - [Section 1.2](#Section1.2) Parzen Window Kernel Density Estimation\n",
    "    - [Section 1.3](#Section1.3) Equation of *d*-dimensional Renyi Entropy of USM\n",
    "* [Section 2](#Section2) Demo of usm_entropy module"
   ]
  },
  {
   "cell_type": "markdown",
   "id": "38f24e52",
   "metadata": {},
   "source": [
    "<a id='Intro'></a>\n",
    "## Introduction\n",
    "\n",
    "Universal Sequence Maps (USM) are a generalized version of the CGR maps first introduced by Jeffrey and they function as generalized order-free Markov transition matrices of symbolic sequences. Due to this property, and the others discussed in the notebook demonstration 'demo_usm_make' "
   ]
  },
  {
   "cell_type": "markdown",
   "id": "804bd850",
   "metadata": {},
   "source": [
    "<a id='termintro'></a>\n",
    "### Terminology Introduction - Use this section as a glossary\n",
    "The topics presented in this notebook are highly cross-disciplinary and as such there are a variety of different terms used in the literature to refer to the same basic concepts. To ensure clarity of discussion we will define the following within the context of symbolic sequence analysis:\n",
    "* \"Sequence\" or \"Symbolic sequence\" - a set of indexed symbols for which the order of the symbols is integral and thus object of analysis. Sequences are commonly encountered in genomics, time series analysis, linguistics and natural language processing, among others. Synonyms of sequence include strings, series, or sometimes vectors. \n",
    "* \"Symbol\" - a nominal data element which has no numeric magnitude in the general Euclidean sense. Symbols are common data types encountered in linguistics and natural language processing, information theory and cryptography as well as genomics. A symbol is congruous with a single category of a categorical variable. A symbol can be anything, including numbers, but it does not behave like regular numbers do as it is generally a proxy \"symbolizing\" some other construct.\n",
    "* \"Generating function\" - a process or phenomenon which produces a sequence of symbols.\n",
    "* \"Alphabet\" - the set of all possible symbols a generating function may produce. For example, if our sequence is a paragraph of a Charles Dickens novel, our generating function could be considered 19th century English typography, and our alphabet would be the 26 letters of the English alphabet plus each punctuation character in use during that time. The term alphabet is congruous to the term \"state space\" from dynamical systems, in that the alphabet functions as the basic state space of a symbolic generating function. There are many different ways the size of an alphabet is refered to in the literature but for this discussion here we will refer to an alphabet's size as its dimension *d* and  \n",
    "* \"k-gram\" - a subsequence of a longer sequence comprising of k sequential symbols. For example, if our sequence is \"ACTGGCA\", \"TG\" would be a k-gram with k=2. In symbolic sequence analysis we are often most interested in the frequency and patterns of k-grams of various lengths. Synonyms for k-gram include L-tuple, subsequence, words, motifs, sub-strings, or vectors. \n",
    "* \"Suffix\" - the k-gram occurring at the very end of a sequence. For \"ACTGGCA\", its length 3 suffix is the k-gram \"GCA\".\n",
    "* \"Prefix\" - the k-gram occurring at the very beginning of a sequence.\n"
   ]
  }
 ],
 "metadata": {
  "kernelspec": {
   "display_name": "Python 3",
   "language": "python",
   "name": "python3"
  },
  "language_info": {
   "codemirror_mode": {
    "name": "ipython",
    "version": 3
   },
   "file_extension": ".py",
   "mimetype": "text/x-python",
   "name": "python",
   "nbconvert_exporter": "python",
   "pygments_lexer": "ipython3",
   "version": "3.8.8"
  }
 },
 "nbformat": 4,
 "nbformat_minor": 5
}
